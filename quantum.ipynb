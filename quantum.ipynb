{
 "cells": [
  {
   "cell_type": "code",
   "execution_count": 178,
   "metadata": {},
   "outputs": [],
   "source": [
    "from helpers import laplace, divergence, gradient, ImageFitting\n",
    "from siren import Siren\n",
    "\n",
    "import torch\n",
    "from torch import nn\n",
    "import torch.nn.functional as F\n",
    "from torch.utils.data import DataLoader, Dataset\n",
    "import os\n",
    "\n",
    "import pennylane as qml\n",
    "from pennylane import numpy as np\n",
    "\n",
    "from PIL import Image\n",
    "from torchvision.transforms import Resize, Compose, ToTensor, Normalize\n",
    "import skimage\n",
    "import matplotlib.pyplot as plt\n",
    "\n",
    "import time"
   ]
  },
  {
   "cell_type": "code",
   "execution_count": 179,
   "metadata": {},
   "outputs": [],
   "source": [
    "sidelength=14"
   ]
  },
  {
   "cell_type": "code",
   "execution_count": 180,
   "metadata": {},
   "outputs": [],
   "source": [
    "cameraman = ImageFitting(sidelength)\n",
    "dataloader = DataLoader(cameraman, batch_size=1, pin_memory=True, num_workers=0)\n",
    "\n",
    "img_siren = Siren(in_features=2, out_features=1, hidden_features=64,\n",
    "                  hidden_layers=3, outermost_linear=True)"
   ]
  },
  {
   "cell_type": "code",
   "execution_count": 181,
   "metadata": {},
   "outputs": [
    {
     "data": {
      "text/plain": [
       "tensor([0.3182, 0.8103, 0.5481, 0.7583, 0.4983, 0.7892, 0.2846, 0.8938, 0.2169,\n",
       "        0.4320], dtype=torch.float64)"
      ]
     },
     "execution_count": 181,
     "metadata": {},
     "output_type": "execute_result"
    }
   ],
   "source": [
    "dev = qml.device(\"default.qubit\", wires=2, shots=None)\n",
    "\n",
    "@qml.batch_input(argnum=1)\n",
    "@qml.qnode(dev, diff_method=\"parameter-shift\", interface=\"torch\")\n",
    "def circuit(inputs, weights):\n",
    "    qml.RY(weights[0][0], wires=0)\n",
    "    qml.AngleEmbedding(inputs, wires=range(2), rotation=\"Y\")\n",
    "    qml.RY(weights[1][1], wires=1)\n",
    "    return qml.expval(qml.PauliZ(1))\n",
    "\n",
    "x = torch.rand(size=(10, 2))\n",
    "w = torch.rand(size=(4, 5,))\n",
    "\n",
    "circuit(x, w)"
   ]
  },
  {
   "cell_type": "code",
   "execution_count": null,
   "metadata": {},
   "outputs": [],
   "source": []
  },
  {
   "cell_type": "code",
   "execution_count": 182,
   "metadata": {},
   "outputs": [
    {
     "name": "stdout",
     "output_type": "stream",
     "text": [
      "0: ──RY(0.68)─╭AngleEmbedding(M0)───────────┤     \n",
      "1: ───────────╰AngleEmbedding(M0)──RY(0.36)─┤  <Z>\n",
      "\n",
      "0: ──RY(0.68)─╭AngleEmbedding(M1)───────────┤     \n",
      "1: ───────────╰AngleEmbedding(M1)──RY(0.36)─┤  <Z>\n",
      "\n",
      "0: ──RY(0.68)─╭AngleEmbedding(M2)───────────┤     \n",
      "1: ───────────╰AngleEmbedding(M2)──RY(0.36)─┤  <Z>\n",
      "\n",
      "0: ──RY(0.68)─╭AngleEmbedding(M3)───────────┤     \n",
      "1: ───────────╰AngleEmbedding(M3)──RY(0.36)─┤  <Z>\n",
      "\n",
      "0: ──RY(0.68)─╭AngleEmbedding(M4)───────────┤     \n",
      "1: ───────────╰AngleEmbedding(M4)──RY(0.36)─┤  <Z>\n",
      "\n",
      "0: ──RY(0.68)─╭AngleEmbedding(M5)───────────┤     \n",
      "1: ───────────╰AngleEmbedding(M5)──RY(0.36)─┤  <Z>\n",
      "\n",
      "0: ──RY(0.68)─╭AngleEmbedding(M6)───────────┤     \n",
      "1: ───────────╰AngleEmbedding(M6)──RY(0.36)─┤  <Z>\n",
      "\n",
      "0: ──RY(0.68)─╭AngleEmbedding(M7)───────────┤     \n",
      "1: ───────────╰AngleEmbedding(M7)──RY(0.36)─┤  <Z>\n",
      "\n",
      "0: ──RY(0.68)─╭AngleEmbedding(M8)───────────┤     \n",
      "1: ───────────╰AngleEmbedding(M8)──RY(0.36)─┤  <Z>\n",
      "\n",
      "0: ──RY(0.68)─╭AngleEmbedding(M9)───────────┤     \n",
      "1: ───────────╰AngleEmbedding(M9)──RY(0.36)─┤  <Z>\n",
      "\n",
      "M0 = \n",
      "tensor([0.2613, 0.8896])\n",
      "M1 = \n",
      "tensor([0.6991, 0.2688])\n",
      "M2 = \n",
      "tensor([0.9775, 0.6334])\n",
      "M3 = \n",
      "tensor([0.9796, 0.3527])\n",
      "M4 = \n",
      "tensor([0.3629, 0.6918])\n",
      "M5 = \n",
      "tensor([0.5900, 0.3039])\n",
      "M6 = \n",
      "tensor([0.9115, 0.9249])\n",
      "M7 = \n",
      "tensor([0.6925, 0.1078])\n",
      "M8 = \n",
      "tensor([0.9240, 0.9948])\n",
      "M9 = \n",
      "tensor([0.1618, 0.7667])\n"
     ]
    }
   ],
   "source": [
    "print(qml.draw(circuit, expansion_strategy=\"device\")(x, w))"
   ]
  },
  {
   "cell_type": "code",
   "execution_count": 183,
   "metadata": {},
   "outputs": [
    {
     "data": {
      "text/plain": [
       "tensor([[0.6781, 0.8099, 0.7632, 0.2815, 0.9617],\n",
       "        [0.8182, 0.3574, 0.8380, 0.3212, 0.9063],\n",
       "        [0.4000, 0.1503, 0.9300, 0.2509, 0.6349],\n",
       "        [0.9891, 0.1252, 0.3985, 0.9490, 0.2964]])"
      ]
     },
     "execution_count": 183,
     "metadata": {},
     "output_type": "execute_result"
    }
   ],
   "source": [
    "w"
   ]
  },
  {
   "cell_type": "code",
   "execution_count": 184,
   "metadata": {},
   "outputs": [
    {
     "name": "stdout",
     "output_type": "stream",
     "text": [
      "Step 0, Total loss 0.293302\n"
     ]
    },
    {
     "data": {
      "image/png": "[encoded data removed]",
      "text/plain": [
       "<Figure size 1800x600 with 3 Axes>"
      ]
     },
     "metadata": {},
     "output_type": "display_data"
    },
    {
     "ename": "KeyboardInterrupt",
     "evalue": "",
     "output_type": "error",
     "traceback": [
      "\u001b[0;31m---------------------------------------------------------------------------\u001b[0m",
      "\u001b[0;31mKeyboardInterrupt\u001b[0m                         Traceback (most recent call last)",
      "Cell \u001b[0;32mIn[184], line 58\u001b[0m\n\u001b[1;32m     55\u001b[0m     plt\u001b[38;5;241m.\u001b[39mshow()\n\u001b[1;32m     57\u001b[0m optim\u001b[38;5;241m.\u001b[39mzero_grad()\n\u001b[0;32m---> 58\u001b[0m \u001b[43mloss\u001b[49m\u001b[38;5;241;43m.\u001b[39;49m\u001b[43mbackward\u001b[49m\u001b[43m(\u001b[49m\u001b[43m)\u001b[49m\n\u001b[1;32m     59\u001b[0m optim\u001b[38;5;241m.\u001b[39mstep()\n",
      "File \u001b[0;32m~/ssd_storage/quantum-siren/.venv/lib64/python3.9/site-packages/torch/_tensor.py:487\u001b[0m, in \u001b[0;36mTensor.backward\u001b[0;34m(self, gradient, retain_graph, create_graph, inputs)\u001b[0m\n\u001b[1;32m    477\u001b[0m \u001b[39mif\u001b[39;00m has_torch_function_unary(\u001b[39mself\u001b[39m):\n\u001b[1;32m    478\u001b[0m     \u001b[39mreturn\u001b[39;00m handle_torch_function(\n\u001b[1;32m    479\u001b[0m         Tensor\u001b[39m.\u001b[39mbackward,\n\u001b[1;32m    480\u001b[0m         (\u001b[39mself\u001b[39m,),\n\u001b[0;32m   (...)\u001b[0m\n\u001b[1;32m    485\u001b[0m         inputs\u001b[39m=\u001b[39minputs,\n\u001b[1;32m    486\u001b[0m     )\n\u001b[0;32m--> 487\u001b[0m torch\u001b[39m.\u001b[39;49mautograd\u001b[39m.\u001b[39;49mbackward(\n\u001b[1;32m    488\u001b[0m     \u001b[39mself\u001b[39;49m, gradient, retain_graph, create_graph, inputs\u001b[39m=\u001b[39;49minputs\n\u001b[1;32m    489\u001b[0m )\n",
      "File \u001b[0;32m~/ssd_storage/quantum-siren/.venv/lib64/python3.9/site-packages/torch/autograd/__init__.py:200\u001b[0m, in \u001b[0;36mbackward\u001b[0;34m(tensors, grad_tensors, retain_graph, create_graph, grad_variables, inputs)\u001b[0m\n\u001b[1;32m    195\u001b[0m     retain_graph \u001b[39m=\u001b[39m create_graph\n\u001b[1;32m    197\u001b[0m \u001b[39m# The reason we repeat same the comment below is that\u001b[39;00m\n\u001b[1;32m    198\u001b[0m \u001b[39m# some Python versions print out the first line of a multi-line function\u001b[39;00m\n\u001b[1;32m    199\u001b[0m \u001b[39m# calls in the traceback and some print out the last line\u001b[39;00m\n\u001b[0;32m--> 200\u001b[0m Variable\u001b[39m.\u001b[39;49m_execution_engine\u001b[39m.\u001b[39;49mrun_backward(  \u001b[39m# Calls into the C++ engine to run the backward pass\u001b[39;49;00m\n\u001b[1;32m    201\u001b[0m     tensors, grad_tensors_, retain_graph, create_graph, inputs,\n\u001b[1;32m    202\u001b[0m     allow_unreachable\u001b[39m=\u001b[39;49m\u001b[39mTrue\u001b[39;49;00m, accumulate_grad\u001b[39m=\u001b[39;49m\u001b[39mTrue\u001b[39;49;00m)\n",
      "File \u001b[0;32m~/ssd_storage/quantum-siren/.venv/lib64/python3.9/site-packages/torch/autograd/function.py:274\u001b[0m, in \u001b[0;36mBackwardCFunction.apply\u001b[0;34m(self, *args)\u001b[0m\n\u001b[1;32m    270\u001b[0m     \u001b[39mraise\u001b[39;00m \u001b[39mRuntimeError\u001b[39;00m(\u001b[39m\"\u001b[39m\u001b[39mImplementing both \u001b[39m\u001b[39m'\u001b[39m\u001b[39mbackward\u001b[39m\u001b[39m'\u001b[39m\u001b[39m and \u001b[39m\u001b[39m'\u001b[39m\u001b[39mvjp\u001b[39m\u001b[39m'\u001b[39m\u001b[39m for a custom \u001b[39m\u001b[39m\"\u001b[39m\n\u001b[1;32m    271\u001b[0m                        \u001b[39m\"\u001b[39m\u001b[39mFunction is not allowed. You should only implement one \u001b[39m\u001b[39m\"\u001b[39m\n\u001b[1;32m    272\u001b[0m                        \u001b[39m\"\u001b[39m\u001b[39mof them.\u001b[39m\u001b[39m\"\u001b[39m)\n\u001b[1;32m    273\u001b[0m user_fn \u001b[39m=\u001b[39m vjp_fn \u001b[39mif\u001b[39;00m vjp_fn \u001b[39mis\u001b[39;00m \u001b[39mnot\u001b[39;00m Function\u001b[39m.\u001b[39mvjp \u001b[39melse\u001b[39;00m backward_fn\n\u001b[0;32m--> 274\u001b[0m \u001b[39mreturn\u001b[39;00m user_fn(\u001b[39mself\u001b[39;49m, \u001b[39m*\u001b[39;49margs)\n",
      "File \u001b[0;32m~/ssd_storage/quantum-siren/.venv/lib/python3.9/site-packages/pennylane/interfaces/torch.py:274\u001b[0m, in \u001b[0;36mpytreeify.<locals>.new_backward\u001b[0;34m(ctx, *flat_grad_outputs)\u001b[0m\n\u001b[1;32m    272\u001b[0m \u001b[39mdef\u001b[39;00m \u001b[39mnew_backward\u001b[39m(ctx, \u001b[39m*\u001b[39mflat_grad_outputs):\n\u001b[1;32m    273\u001b[0m     grad_outputs \u001b[39m=\u001b[39m pytree\u001b[39m.\u001b[39mtree_unflatten(flat_grad_outputs, ctx\u001b[39m.\u001b[39m_out_struct)\n\u001b[0;32m--> 274\u001b[0m     grad_inputs \u001b[39m=\u001b[39m orig_bw(ctx, \u001b[39m*\u001b[39;49mgrad_outputs)\n\u001b[1;32m    275\u001b[0m     \u001b[39m# None corresponds to the diff of out_struct_holder\u001b[39;00m\n\u001b[1;32m    276\u001b[0m     \u001b[39mreturn\u001b[39;00m (\u001b[39mNone\u001b[39;00m,) \u001b[39m+\u001b[39m \u001b[39mtuple\u001b[39m(grad_inputs)\n",
      "File \u001b[0;32m~/ssd_storage/quantum-siren/.venv/lib/python3.9/site-packages/pennylane/interfaces/torch.py:418\u001b[0m, in \u001b[0;36mExecuteTapes.backward\u001b[0;34m(ctx, *dy)\u001b[0m\n\u001b[1;32m    409\u001b[0m         unwrapped_tapes \u001b[39m=\u001b[39m \u001b[39mtuple\u001b[39m(convert_to_numpy_parameters(t) \u001b[39mfor\u001b[39;00m t \u001b[39min\u001b[39;00m ctx\u001b[39m.\u001b[39mtapes)\n\u001b[1;32m    410\u001b[0m         vjp_tapes, processing_fn \u001b[39m=\u001b[39m qml\u001b[39m.\u001b[39mgradients\u001b[39m.\u001b[39mbatch_vjp(\n\u001b[1;32m    411\u001b[0m             unwrapped_tapes,\n\u001b[1;32m    412\u001b[0m             dy,\n\u001b[0;32m   (...)\u001b[0m\n\u001b[1;32m    415\u001b[0m             gradient_kwargs\u001b[39m=\u001b[39mctx\u001b[39m.\u001b[39mgradient_kwargs,\n\u001b[1;32m    416\u001b[0m         )\n\u001b[0;32m--> 418\u001b[0m         vjps \u001b[39m=\u001b[39m processing_fn(ctx\u001b[39m.\u001b[39;49mexecute_fn(vjp_tapes)[\u001b[39m0\u001b[39m])\n\u001b[1;32m    420\u001b[0m \u001b[39melse\u001b[39;00m:\n\u001b[1;32m    421\u001b[0m     \u001b[39m# Gradient function is not a gradient transform\u001b[39;00m\n\u001b[1;32m    422\u001b[0m     \u001b[39m# (e.g., it might be a device method).\u001b[39;00m\n\u001b[0;32m   (...)\u001b[0m\n\u001b[1;32m    427\u001b[0m     \u001b[39m#\u001b[39;00m\n\u001b[1;32m    428\u001b[0m     \u001b[39m# so we cannot support higher-order derivatives.\u001b[39;00m\n\u001b[1;32m    430\u001b[0m     unwrapped_tapes \u001b[39m=\u001b[39m \u001b[39mtuple\u001b[39m(convert_to_numpy_parameters(t) \u001b[39mfor\u001b[39;00m t \u001b[39min\u001b[39;00m ctx\u001b[39m.\u001b[39mtapes)\n",
      "File \u001b[0;32m~/ssd_storage/quantum-siren/.venv/lib/python3.9/site-packages/pennylane/interfaces/execution.py:231\u001b[0m, in \u001b[0;36mcache_execute.<locals>.wrapper\u001b[0;34m(tapes, **kwargs)\u001b[0m\n\u001b[1;32m    228\u001b[0m repeated \u001b[39m=\u001b[39m {}\n\u001b[1;32m    230\u001b[0m \u001b[39mfor\u001b[39;00m i, tape \u001b[39min\u001b[39;00m \u001b[39menumerate\u001b[39m(tapes):\n\u001b[0;32m--> 231\u001b[0m     h \u001b[39m=\u001b[39m tape\u001b[39m.\u001b[39;49mhash\n\u001b[1;32m    233\u001b[0m     \u001b[39mif\u001b[39;00m h \u001b[39min\u001b[39;00m hashes\u001b[39m.\u001b[39mvalues():\n\u001b[1;32m    234\u001b[0m         \u001b[39m# Tape already exists within ``tapes``. Determine the\u001b[39;00m\n\u001b[1;32m    235\u001b[0m         \u001b[39m# index of the first occurrence of the tape, store this,\u001b[39;00m\n\u001b[1;32m    236\u001b[0m         \u001b[39m# and continue to the next iteration.\u001b[39;00m\n\u001b[1;32m    237\u001b[0m         idx \u001b[39m=\u001b[39m \u001b[39mlist\u001b[39m(hashes\u001b[39m.\u001b[39mkeys())[\u001b[39mlist\u001b[39m(hashes\u001b[39m.\u001b[39mvalues())\u001b[39m.\u001b[39mindex(h)]\n",
      "File \u001b[0;32m~/ssd_storage/quantum-siren/.venv/lib/python3.9/site-packages/pennylane/tape/qscript.py:238\u001b[0m, in \u001b[0;36mQuantumScript.hash\u001b[0;34m(self)\u001b[0m\n\u001b[1;32m    236\u001b[0m \u001b[39m\u001b[39m\u001b[39m\"\"\"int: returns an integer hash uniquely representing the quantum script\"\"\"\u001b[39;00m\n\u001b[1;32m    237\u001b[0m fingerprint \u001b[39m=\u001b[39m []\n\u001b[0;32m--> 238\u001b[0m fingerprint\u001b[39m.\u001b[39;49mextend(op\u001b[39m.\u001b[39;49mhash \u001b[39mfor\u001b[39;49;00m op \u001b[39min\u001b[39;49;00m \u001b[39mself\u001b[39;49m\u001b[39m.\u001b[39;49moperations)\n\u001b[1;32m    239\u001b[0m fingerprint\u001b[39m.\u001b[39mextend(m\u001b[39m.\u001b[39mhash \u001b[39mfor\u001b[39;00m m \u001b[39min\u001b[39;00m \u001b[39mself\u001b[39m\u001b[39m.\u001b[39mmeasurements)\n\u001b[1;32m    240\u001b[0m fingerprint\u001b[39m.\u001b[39mextend(\u001b[39mself\u001b[39m\u001b[39m.\u001b[39mtrainable_params)\n",
      "File \u001b[0;32m~/ssd_storage/quantum-siren/.venv/lib/python3.9/site-packages/pennylane/tape/qscript.py:238\u001b[0m, in \u001b[0;36m<genexpr>\u001b[0;34m(.0)\u001b[0m\n\u001b[1;32m    236\u001b[0m \u001b[39m\u001b[39m\u001b[39m\"\"\"int: returns an integer hash uniquely representing the quantum script\"\"\"\u001b[39;00m\n\u001b[1;32m    237\u001b[0m fingerprint \u001b[39m=\u001b[39m []\n\u001b[0;32m--> 238\u001b[0m fingerprint\u001b[39m.\u001b[39mextend(op\u001b[39m.\u001b[39;49mhash \u001b[39mfor\u001b[39;00m op \u001b[39min\u001b[39;00m \u001b[39mself\u001b[39m\u001b[39m.\u001b[39moperations)\n\u001b[1;32m    239\u001b[0m fingerprint\u001b[39m.\u001b[39mextend(m\u001b[39m.\u001b[39mhash \u001b[39mfor\u001b[39;00m m \u001b[39min\u001b[39;00m \u001b[39mself\u001b[39m\u001b[39m.\u001b[39mmeasurements)\n\u001b[1;32m    240\u001b[0m fingerprint\u001b[39m.\u001b[39mextend(\u001b[39mself\u001b[39m\u001b[39m.\u001b[39mtrainable_params)\n",
      "File \u001b[0;32m~/ssd_storage/quantum-siren/.venv/lib/python3.9/site-packages/pennylane/operation.py:697\u001b[0m, in \u001b[0;36mOperator.hash\u001b[0;34m(self)\u001b[0m\n\u001b[1;32m    689\u001b[0m \u001b[39m@property\u001b[39m\n\u001b[1;32m    690\u001b[0m \u001b[39mdef\u001b[39;00m \u001b[39mhash\u001b[39m(\u001b[39mself\u001b[39m):\n\u001b[1;32m    691\u001b[0m \u001b[39m    \u001b[39m\u001b[39m\"\"\"int: Integer hash that uniquely represents the operator.\"\"\"\u001b[39;00m\n\u001b[1;32m    692\u001b[0m     \u001b[39mreturn\u001b[39;00m \u001b[39mhash\u001b[39m(\n\u001b[1;32m    693\u001b[0m         (\n\u001b[1;32m    694\u001b[0m             \u001b[39mstr\u001b[39m(\u001b[39mself\u001b[39m\u001b[39m.\u001b[39mname),\n\u001b[1;32m    695\u001b[0m             \u001b[39mtuple\u001b[39m(\u001b[39mself\u001b[39m\u001b[39m.\u001b[39mwires\u001b[39m.\u001b[39mtolist()),\n\u001b[1;32m    696\u001b[0m             \u001b[39mstr\u001b[39m(\u001b[39mself\u001b[39m\u001b[39m.\u001b[39mhyperparameters\u001b[39m.\u001b[39mvalues()),\n\u001b[0;32m--> 697\u001b[0m             _process_data(\u001b[39mself\u001b[39;49m),\n\u001b[1;32m    698\u001b[0m         )\n\u001b[1;32m    699\u001b[0m     )\n",
      "File \u001b[0;32m~/ssd_storage/quantum-siren/.venv/lib/python3.9/site-packages/pennylane/operation.py:382\u001b[0m, in \u001b[0;36m_process_data\u001b[0;34m(op)\u001b[0m\n\u001b[1;32m    377\u001b[0m \u001b[39mdef\u001b[39;00m \u001b[39m_process_data\u001b[39m(op):\n\u001b[1;32m    378\u001b[0m     \u001b[39m# Use qml.math.real to take the real part. We may get complex inputs for\u001b[39;00m\n\u001b[1;32m    379\u001b[0m     \u001b[39m# example when differentiating holomorphic functions with JAX: a complex\u001b[39;00m\n\u001b[1;32m    380\u001b[0m     \u001b[39m# valued QNode (one that returns qml.state) requires complex typed inputs.\u001b[39;00m\n\u001b[1;32m    381\u001b[0m     \u001b[39mif\u001b[39;00m op\u001b[39m.\u001b[39mname \u001b[39min\u001b[39;00m (\u001b[39m\"\u001b[39m\u001b[39mRX\u001b[39m\u001b[39m\"\u001b[39m, \u001b[39m\"\u001b[39m\u001b[39mRY\u001b[39m\u001b[39m\"\u001b[39m, \u001b[39m\"\u001b[39m\u001b[39mRZ\u001b[39m\u001b[39m\"\u001b[39m, \u001b[39m\"\u001b[39m\u001b[39mPhaseShift\u001b[39m\u001b[39m\"\u001b[39m, \u001b[39m\"\u001b[39m\u001b[39mRot\u001b[39m\u001b[39m\"\u001b[39m):\n\u001b[0;32m--> 382\u001b[0m         \u001b[39mreturn\u001b[39;00m \u001b[39mstr\u001b[39m([qml\u001b[39m.\u001b[39mmath\u001b[39m.\u001b[39mround(qml\u001b[39m.\u001b[39mmath\u001b[39m.\u001b[39mreal(d) \u001b[39m%\u001b[39m (\u001b[39m2\u001b[39m \u001b[39m*\u001b[39m np\u001b[39m.\u001b[39mpi), \u001b[39m10\u001b[39m) \u001b[39mfor\u001b[39;00m d \u001b[39min\u001b[39;00m op\u001b[39m.\u001b[39mdata])\n\u001b[1;32m    384\u001b[0m     \u001b[39mif\u001b[39;00m op\u001b[39m.\u001b[39mname \u001b[39min\u001b[39;00m (\u001b[39m\"\u001b[39m\u001b[39mCRX\u001b[39m\u001b[39m\"\u001b[39m, \u001b[39m\"\u001b[39m\u001b[39mCRY\u001b[39m\u001b[39m\"\u001b[39m, \u001b[39m\"\u001b[39m\u001b[39mCRZ\u001b[39m\u001b[39m\"\u001b[39m, \u001b[39m\"\u001b[39m\u001b[39mCRot\u001b[39m\u001b[39m\"\u001b[39m):\n\u001b[1;32m    385\u001b[0m         \u001b[39mreturn\u001b[39;00m \u001b[39mstr\u001b[39m([qml\u001b[39m.\u001b[39mmath\u001b[39m.\u001b[39mround(qml\u001b[39m.\u001b[39mmath\u001b[39m.\u001b[39mreal(d) \u001b[39m%\u001b[39m (\u001b[39m4\u001b[39m \u001b[39m*\u001b[39m np\u001b[39m.\u001b[39mpi), \u001b[39m10\u001b[39m) \u001b[39mfor\u001b[39;00m d \u001b[39min\u001b[39;00m op\u001b[39m.\u001b[39mdata])\n",
      "File \u001b[0;32m~/ssd_storage/quantum-siren/.venv/lib/python3.9/site-packages/pennylane/operation.py:382\u001b[0m, in \u001b[0;36m<listcomp>\u001b[0;34m(.0)\u001b[0m\n\u001b[1;32m    377\u001b[0m \u001b[39mdef\u001b[39;00m \u001b[39m_process_data\u001b[39m(op):\n\u001b[1;32m    378\u001b[0m     \u001b[39m# Use qml.math.real to take the real part. We may get complex inputs for\u001b[39;00m\n\u001b[1;32m    379\u001b[0m     \u001b[39m# example when differentiating holomorphic functions with JAX: a complex\u001b[39;00m\n\u001b[1;32m    380\u001b[0m     \u001b[39m# valued QNode (one that returns qml.state) requires complex typed inputs.\u001b[39;00m\n\u001b[1;32m    381\u001b[0m     \u001b[39mif\u001b[39;00m op\u001b[39m.\u001b[39mname \u001b[39min\u001b[39;00m (\u001b[39m\"\u001b[39m\u001b[39mRX\u001b[39m\u001b[39m\"\u001b[39m, \u001b[39m\"\u001b[39m\u001b[39mRY\u001b[39m\u001b[39m\"\u001b[39m, \u001b[39m\"\u001b[39m\u001b[39mRZ\u001b[39m\u001b[39m\"\u001b[39m, \u001b[39m\"\u001b[39m\u001b[39mPhaseShift\u001b[39m\u001b[39m\"\u001b[39m, \u001b[39m\"\u001b[39m\u001b[39mRot\u001b[39m\u001b[39m\"\u001b[39m):\n\u001b[0;32m--> 382\u001b[0m         \u001b[39mreturn\u001b[39;00m \u001b[39mstr\u001b[39m([qml\u001b[39m.\u001b[39;49mmath\u001b[39m.\u001b[39;49mround(qml\u001b[39m.\u001b[39;49mmath\u001b[39m.\u001b[39;49mreal(d) \u001b[39m%\u001b[39;49m (\u001b[39m2\u001b[39;49m \u001b[39m*\u001b[39;49m np\u001b[39m.\u001b[39;49mpi), \u001b[39m10\u001b[39;49m) \u001b[39mfor\u001b[39;00m d \u001b[39min\u001b[39;00m op\u001b[39m.\u001b[39mdata])\n\u001b[1;32m    384\u001b[0m     \u001b[39mif\u001b[39;00m op\u001b[39m.\u001b[39mname \u001b[39min\u001b[39;00m (\u001b[39m\"\u001b[39m\u001b[39mCRX\u001b[39m\u001b[39m\"\u001b[39m, \u001b[39m\"\u001b[39m\u001b[39mCRY\u001b[39m\u001b[39m\"\u001b[39m, \u001b[39m\"\u001b[39m\u001b[39mCRZ\u001b[39m\u001b[39m\"\u001b[39m, \u001b[39m\"\u001b[39m\u001b[39mCRot\u001b[39m\u001b[39m\"\u001b[39m):\n\u001b[1;32m    385\u001b[0m         \u001b[39mreturn\u001b[39;00m \u001b[39mstr\u001b[39m([qml\u001b[39m.\u001b[39mmath\u001b[39m.\u001b[39mround(qml\u001b[39m.\u001b[39mmath\u001b[39m.\u001b[39mreal(d) \u001b[39m%\u001b[39m (\u001b[39m4\u001b[39m \u001b[39m*\u001b[39m np\u001b[39m.\u001b[39mpi), \u001b[39m10\u001b[39m) \u001b[39mfor\u001b[39;00m d \u001b[39min\u001b[39;00m op\u001b[39m.\u001b[39mdata])\n",
      "File \u001b[0;32m~/ssd_storage/quantum-siren/.venv/lib/python3.9/site-packages/autoray/autoray.py:80\u001b[0m, in \u001b[0;36mdo\u001b[0;34m(fn, like, *args, **kwargs)\u001b[0m\n\u001b[1;32m     31\u001b[0m \u001b[39m\u001b[39m\u001b[39m\"\"\"Do function named ``fn`` on ``(*args, **kwargs)``, peforming single\u001b[39;00m\n\u001b[1;32m     32\u001b[0m \u001b[39mdispatch to retrieve ``fn`` based on whichever library defines the class of\u001b[39;00m\n\u001b[1;32m     33\u001b[0m \u001b[39mthe ``args[0]``, or the ``like`` keyword argument if specified.\u001b[39;00m\n\u001b[0;32m   (...)\u001b[0m\n\u001b[1;32m     77\u001b[0m \u001b[39m    <tf.Tensor: id=91, shape=(3, 3), dtype=float32>\u001b[39;00m\n\u001b[1;32m     78\u001b[0m \u001b[39m\"\"\"\u001b[39;00m\n\u001b[1;32m     79\u001b[0m backend \u001b[39m=\u001b[39m choose_backend(fn, \u001b[39m*\u001b[39margs, like\u001b[39m=\u001b[39mlike, \u001b[39m*\u001b[39m\u001b[39m*\u001b[39mkwargs)\n\u001b[0;32m---> 80\u001b[0m \u001b[39mreturn\u001b[39;00m get_lib_fn(backend, fn)(\u001b[39m*\u001b[39;49margs, \u001b[39m*\u001b[39;49m\u001b[39m*\u001b[39;49mkwargs)\n",
      "File \u001b[0;32m<__array_function__ internals>:180\u001b[0m, in \u001b[0;36mround_\u001b[0;34m(*args, **kwargs)\u001b[0m\n",
      "File \u001b[0;32m~/ssd_storage/quantum-siren/.venv/lib64/python3.9/site-packages/numpy/core/fromnumeric.py:3731\u001b[0m, in \u001b[0;36mround_\u001b[0;34m(a, decimals, out)\u001b[0m\n\u001b[1;32m   3722\u001b[0m \u001b[39m@array_function_dispatch\u001b[39m(_around_dispatcher)\n\u001b[1;32m   3723\u001b[0m \u001b[39mdef\u001b[39;00m \u001b[39mround_\u001b[39m(a, decimals\u001b[39m=\u001b[39m\u001b[39m0\u001b[39m, out\u001b[39m=\u001b[39m\u001b[39mNone\u001b[39;00m):\n\u001b[1;32m   3724\u001b[0m \u001b[39m    \u001b[39m\u001b[39m\"\"\"\u001b[39;00m\n\u001b[1;32m   3725\u001b[0m \u001b[39m    Round an array to the given number of decimals.\u001b[39;00m\n\u001b[1;32m   3726\u001b[0m \n\u001b[0;32m   (...)\u001b[0m\n\u001b[1;32m   3729\u001b[0m \u001b[39m    around : equivalent function; see for details.\u001b[39;00m\n\u001b[1;32m   3730\u001b[0m \u001b[39m    \"\"\"\u001b[39;00m\n\u001b[0;32m-> 3731\u001b[0m     \u001b[39mreturn\u001b[39;00m around(a, decimals\u001b[39m=\u001b[39;49mdecimals, out\u001b[39m=\u001b[39;49mout)\n",
      "File \u001b[0;32m<__array_function__ internals>:180\u001b[0m, in \u001b[0;36maround\u001b[0;34m(*args, **kwargs)\u001b[0m\n",
      "File \u001b[0;32m~/ssd_storage/quantum-siren/.venv/lib64/python3.9/site-packages/numpy/core/fromnumeric.py:3305\u001b[0m, in \u001b[0;36maround\u001b[0;34m(a, decimals, out)\u001b[0m\n\u001b[1;32m   3214\u001b[0m \u001b[39m@array_function_dispatch\u001b[39m(_around_dispatcher)\n\u001b[1;32m   3215\u001b[0m \u001b[39mdef\u001b[39;00m \u001b[39maround\u001b[39m(a, decimals\u001b[39m=\u001b[39m\u001b[39m0\u001b[39m, out\u001b[39m=\u001b[39m\u001b[39mNone\u001b[39;00m):\n\u001b[1;32m   3216\u001b[0m \u001b[39m    \u001b[39m\u001b[39m\"\"\"\u001b[39;00m\n\u001b[1;32m   3217\u001b[0m \u001b[39m    Evenly round to the given number of decimals.\u001b[39;00m\n\u001b[1;32m   3218\u001b[0m \n\u001b[0;32m   (...)\u001b[0m\n\u001b[1;32m   3303\u001b[0m \n\u001b[1;32m   3304\u001b[0m \u001b[39m    \"\"\"\u001b[39;00m\n\u001b[0;32m-> 3305\u001b[0m     \u001b[39mreturn\u001b[39;00m _wrapfunc(a, \u001b[39m'\u001b[39;49m\u001b[39mround\u001b[39;49m\u001b[39m'\u001b[39;49m, decimals\u001b[39m=\u001b[39;49mdecimals, out\u001b[39m=\u001b[39;49mout)\n",
      "File \u001b[0;32m~/ssd_storage/quantum-siren/.venv/lib64/python3.9/site-packages/numpy/core/fromnumeric.py:54\u001b[0m, in \u001b[0;36m_wrapfunc\u001b[0;34m(obj, method, *args, **kwds)\u001b[0m\n\u001b[1;32m     52\u001b[0m bound \u001b[39m=\u001b[39m \u001b[39mgetattr\u001b[39m(obj, method, \u001b[39mNone\u001b[39;00m)\n\u001b[1;32m     53\u001b[0m \u001b[39mif\u001b[39;00m bound \u001b[39mis\u001b[39;00m \u001b[39mNone\u001b[39;00m:\n\u001b[0;32m---> 54\u001b[0m     \u001b[39mreturn\u001b[39;00m _wrapit(obj, method, \u001b[39m*\u001b[39;49margs, \u001b[39m*\u001b[39;49m\u001b[39m*\u001b[39;49mkwds)\n\u001b[1;32m     56\u001b[0m \u001b[39mtry\u001b[39;00m:\n\u001b[1;32m     57\u001b[0m     \u001b[39mreturn\u001b[39;00m bound(\u001b[39m*\u001b[39margs, \u001b[39m*\u001b[39m\u001b[39m*\u001b[39mkwds)\n",
      "File \u001b[0;32m~/ssd_storage/quantum-siren/.venv/lib64/python3.9/site-packages/numpy/core/fromnumeric.py:43\u001b[0m, in \u001b[0;36m_wrapit\u001b[0;34m(obj, method, *args, **kwds)\u001b[0m\n\u001b[1;32m     41\u001b[0m \u001b[39mexcept\u001b[39;00m \u001b[39mAttributeError\u001b[39;00m:\n\u001b[1;32m     42\u001b[0m     wrap \u001b[39m=\u001b[39m \u001b[39mNone\u001b[39;00m\n\u001b[0;32m---> 43\u001b[0m result \u001b[39m=\u001b[39m \u001b[39mgetattr\u001b[39;49m(asarray(obj), method)(\u001b[39m*\u001b[39margs, \u001b[39m*\u001b[39m\u001b[39m*\u001b[39mkwds)\n\u001b[1;32m     44\u001b[0m \u001b[39mif\u001b[39;00m wrap:\n\u001b[1;32m     45\u001b[0m     \u001b[39mif\u001b[39;00m \u001b[39mnot\u001b[39;00m \u001b[39misinstance\u001b[39m(result, mu\u001b[39m.\u001b[39mndarray):\n",
      "\u001b[0;31mKeyboardInterrupt\u001b[0m: "
     ]
    }
   ],
   "source": [
    "total_steps = 500 # Since the whole image is our dataset, this just means 500 gradient descent steps.\n",
    "steps_til_summary = 1\n",
    "\n",
    "n_qubits = 3\n",
    "n_gates_per_layer = 3\n",
    "n_layer = 4\n",
    "\n",
    "dev = qml.device(\"default.qubit\", wires=n_qubits, shots=None)\n",
    "\n",
    "@qml.batch_input(argnum=0)\n",
    "@qml.qnode(dev, diff_method=\"parameter-shift\", interface=\"torch\")\n",
    "def circuit(coords, params):\n",
    "    # qml.RY(coords[0], wires=0)\n",
    "    # qml.RY(coords[1], wires=1)\n",
    "    qml.AngleEmbedding(coords, wires=range(params.shape[1]-1), rotation=\"Y\")\n",
    "\n",
    "    qml.Barrier(wires=range(n_qubits))\n",
    "\n",
    "    for l, l_params in enumerate(params):\n",
    "        for q, l_q_params in enumerate(l_params):\n",
    "            qml.RX(l_q_params[0], wires=q)\n",
    "            qml.RY(l_q_params[1], wires=q)\n",
    "\n",
    "            qml.CRX(l_q_params[2], wires=[q, (q+1)%params.shape[1]])\n",
    "\n",
    "    return qml.expval(qml.PauliZ(2))\n",
    "\n",
    "\n",
    "# params = np.random.uniform(size=(sidelength,sidelength))\n",
    "params = torch.rand(size=(n_layer,n_qubits,n_gates_per_layer), requires_grad=True) # nLayers, nQubits, nGatesPerLayer\n",
    "\n",
    "optim = torch.optim.Adam(lr=1e-4, params=[params])\n",
    "\n",
    "model_input, ground_truth = next(iter(dataloader))\n",
    "model_input, ground_truth = model_input, ground_truth\n",
    "\n",
    "for step in range(total_steps):\n",
    "    # model_output, coords = img_siren(model_input)\n",
    "\n",
    "    model_output = circuit(model_input[0], params)\n",
    "    model_output = model_output.reshape((1, model_output.shape[0], 1))\n",
    "    coords = model_input\n",
    "\n",
    "    loss = ((model_output - ground_truth)**2).mean()\n",
    "\n",
    "    if not step % steps_til_summary:\n",
    "        print(\"Step %d, Total loss %0.6f\" % (step, loss))\n",
    "        # img_grad = gradient(model_output, coords)\n",
    "        # img_laplacian = laplace(model_output, coords)\n",
    "\n",
    "        fig, axes = plt.subplots(1,3, figsize=(18,6))\n",
    "        axes[0].imshow(model_output.cpu().view(sidelength,sidelength).detach().numpy())\n",
    "        # axes[1].imshow(img_grad.norm(dim=-1).cpu().view(sidelength,sidelength).detach().numpy())\n",
    "        # axes[2].imshow(img_laplacian.cpu().view(sidelength,sidelength).detach().numpy())\n",
    "        plt.show()\n",
    "\n",
    "    optim.zero_grad()\n",
    "    loss.backward()\n",
    "    optim.step()"
   ]
  }
 ],
 "metadata": {
  "kernelspec": {
   "display_name": "Python 3.9.13 ('.venv': poetry)",
   "language": "python",
   "name": "python3"
  },
  "language_info": {
   "codemirror_mode": {
    "name": "ipython",
    "version": 3
   },
   "file_extension": ".py",
   "mimetype": "text/x-python",
   "name": "python",
   "nbconvert_exporter": "python",
   "pygments_lexer": "ipython3",
   "version": "3.9.13"
  },
  "orig_nbformat": 4,
  "vscode": {
   "interpreter": {
    "hash": "5463ba65ff2e4c9f377e186e6350965c990ebb451cb8063ee49f5c63761d85ab"
   }
  }
 },
 "nbformat": 4,
 "nbformat_minor": 2
}
